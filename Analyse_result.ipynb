{
 "cells": [
  {
   "cell_type": "code",
   "execution_count": 1,
   "id": "d3887c34",
   "metadata": {},
   "outputs": [],
   "source": [
    "using JSON"
   ]
  },
  {
   "cell_type": "code",
   "execution_count": 2,
   "id": "f8f63d34",
   "metadata": {},
   "outputs": [
    {
     "data": {
      "text/plain": [
       "nb_operators (generic function with 1 method)"
      ]
     },
     "execution_count": 2,
     "metadata": {},
     "output_type": "execute_result"
    }
   ],
   "source": [
    "\"\"\"\n",
    "    Job\n",
    "\n",
    "## Attributes\n",
    "- `index`: j\n",
    "- `task_sequence`: list of task indices i\n",
    "- `due_date`: dⱼ\n",
    "- `weight`: wⱼ\n",
    "\"\"\"\n",
    "Base.@kwdef struct Job\n",
    "    index::Int\n",
    "    task_sequence::Vector{Int}\n",
    "    release_date::Int\n",
    "    due_date::Int\n",
    "    weight::Float64\n",
    "end\n",
    "\n",
    "\"\"\"\n",
    "    Task\n",
    "\n",
    "## Attributes\n",
    "- `index`: i\n",
    "- `processing_time`: pᵢ\n",
    "- `machines`: list of machine indices on which this task can be performed\n",
    "\"\"\"\n",
    "Base.@kwdef struct Task\n",
    "    index::Int\n",
    "    processing_time::Int\n",
    "    machines::Vector{Int}\n",
    "end\n",
    "\n",
    "\"\"\"\n",
    "    Instance\n",
    "\n",
    "## Attributes\n",
    "- `nb_operators::Int`\n",
    "- `α::Float64`: penalty when a job is late\n",
    "- `β::Float64`: delay penalty for jobs\n",
    "- `jobs::Vector{Job}`: job list, in index order\n",
    "- `tasks::Vector{Task}`: task list, in index order\n",
    "- `operators::Matrix{Vector{Int}}`: operators[i, m] = list of operators that can operate task i on machine m\n",
    "\"\"\"\n",
    "Base.@kwdef struct Instance\n",
    "    nb_operators::Int\n",
    "    α::Float64 # unit penalty\n",
    "    β::Float64 # tardiness\n",
    "    jobs::Vector{Job}\n",
    "    tasks::Vector{Task}\n",
    "    operators::Matrix{Vector{Int}}  # operators[i, m] = list of operators that can operate task i on machine m\n",
    "end\n",
    "\n",
    "nb_jobs(instance::Instance) = length(instance.jobs)\n",
    "nb_tasks(instance::Instance) = length(instance.tasks)\n",
    "nb_machines(instance::Instance) = size(instance.operators, 2)\n",
    "nb_operators(instance::Instance) = instance.nb_operators"
   ]
  },
  {
   "cell_type": "code",
   "execution_count": 3,
   "id": "a4a1c919",
   "metadata": {},
   "outputs": [
    {
     "data": {
      "text/plain": [
       "Solution"
      ]
     },
     "execution_count": 3,
     "metadata": {},
     "output_type": "execute_result"
    }
   ],
   "source": [
    "\"\"\"\n",
    "    Solution\n",
    "\n",
    "## Attributes\n",
    "- `starts`: starting date of each task.\n",
    "- `machines`: machines for each task.\n",
    "- `operators`: operator for each task.\n",
    "\"\"\"\n",
    "Base.@kwdef struct Solution\n",
    "    starts::Vector{Int}\n",
    "    machines::Vector{Int}\n",
    "    operators::Vector{Int}\n",
    "end"
   ]
  },
  {
   "cell_type": "code",
   "execution_count": 4,
   "id": "f07af4bd",
   "metadata": {},
   "outputs": [
    {
     "data": {
      "text/plain": [
       "cost"
      ]
     },
     "execution_count": 4,
     "metadata": {},
     "output_type": "execute_result"
    }
   ],
   "source": [
    "\"\"\"\n",
    "    is_feasible(solution::Solution, instance::Instance; verbose=true)\n",
    "\n",
    "Check if `solution` is feasible for `instance`.\n",
    "Prints some warnings when solution is infeasible and `verbose` is `true`.\n",
    "\"\"\"\n",
    "function is_feasible(solution::Solution, instance::Instance; verbose=true)\n",
    "    (; starts, machines, operators) = solution\n",
    "\n",
    "    n = nb_tasks(instance)\n",
    "    @assert n == length(starts) \"Not all tasks are in the solution\"\n",
    "    @assert n == length(machines) \"Not all tasks are in the solution\"\n",
    "    @assert n == length(operators) \"Not all tasks are in the solution\"\n",
    "\n",
    "    # Check job related constraints\n",
    "    for job in instance.jobs\n",
    "        current_time = job.release_date\n",
    "\n",
    "        for task_index in job.task_sequence\n",
    "            task = instance.tasks[task_index]\n",
    "\n",
    "            start_time = starts[task_index]\n",
    "            # start time should occur after end of previous task (constraints 4 and 5)\n",
    "            if start_time < current_time\n",
    "                verbose && @warn \"Task $task_index started before previous one (or before the release date if it's the first one)\"\n",
    "                return false\n",
    "            end\n",
    "\n",
    "            current_time += task.processing_time\n",
    "\n",
    "            machine_index = machines[task_index]\n",
    "            # the task needs to be compatible with the chosen machine\n",
    "            if !(machine_index in task.machines)\n",
    "                verbose && @warn \"Machine $machine_index is not compatible with task $task_index\"\n",
    "                return false\n",
    "            end\n",
    "\n",
    "            operator = operators[task_index]\n",
    "            # the chosen machine should be compatible with the chosen operator\n",
    "            if ! (operator in instance.operators[task_index, machine_index])\n",
    "                @warn \"Operator $operator cannot operate machine $machine_index\"\n",
    "                return false\n",
    "            end\n",
    "        end\n",
    "    end\n",
    "\n",
    "    # A machine cannot operate two tasks at the same time (constraint 7)\n",
    "    for m in 1:nb_machines(instance)\n",
    "        tasks_with_m = sort(findall(x -> x == m, machines); by=i -> starts[i])\n",
    "\n",
    "        m_time = 0\n",
    "        for i in tasks_with_m\n",
    "            if starts[i] < m_time\n",
    "                @warn \"Two tasks (including $i) at the same time on machine $m\"\n",
    "                return false\n",
    "            end\n",
    "            m_time = starts[i] + instance.tasks[i].processing_time\n",
    "        end\n",
    "    end\n",
    "\n",
    "    # An operator cannot operate two tasks at the same time (constraint 7)\n",
    "    for o in 1:nb_operators(instance)\n",
    "        tasks_with_o = sort(findall(x -> x == o, operators); by=i -> starts[i])\n",
    "        o_time = 0\n",
    "        for i in tasks_with_o\n",
    "            if starts[i] < o_time\n",
    "                @warn \"Two tasks at the same time with operator $o ($(starts[i]), $o_time)\"\n",
    "                return false\n",
    "            end\n",
    "            o_time = starts[i] + instance.tasks[i].processing_time\n",
    "        end\n",
    "    end\n",
    "\n",
    "    return true\n",
    "end\n",
    "\n",
    "\"\"\"\n",
    "    job_cost(job_index::Int, solution::Solution, instance::Instance)\n",
    "\n",
    "Compute the value of job `job_index` in the objective for `solution` in `instance`.\n",
    "\"\"\"\n",
    "function job_cost(job_index::Int, solution::Solution, instance::Instance)\n",
    "    (; α, β, jobs, tasks) = instance\n",
    "\n",
    "    job = jobs[job_index]\n",
    "\n",
    "    # Compute the job completion time\n",
    "    last_task_index = job.task_sequence[end]\n",
    "    last_task = tasks[last_task_index]\n",
    "    completion_time = solution.starts[last_task_index] + last_task.processing_time\n",
    "\n",
    "    is_late = completion_time > job.due_date\n",
    "    tardiness = is_late ? completion_time - job.due_date : 0\n",
    "\n",
    "    return job.weight * (completion_time + α * is_late + β * tardiness)\n",
    "end\n",
    "\n",
    "\"\"\"\n",
    "    cost(solution::Solution, instance::Instance)\n",
    "\n",
    "Compute the objective value of `solution` for given `instance`.\n",
    "\"\"\"\n",
    "function cost(solution::Solution, instance::Instance)\n",
    "    return sum(job_cost(j, solution, instance) for j in 1:nb_jobs(instance))\n",
    "end"
   ]
  },
  {
   "cell_type": "code",
   "execution_count": 5,
   "id": "8594c598",
   "metadata": {},
   "outputs": [
    {
     "data": {
      "text/plain": [
       "prepare_submission"
      ]
     },
     "execution_count": 5,
     "metadata": {},
     "output_type": "execute_result"
    }
   ],
   "source": [
    "\"\"\"\n",
    "    read_instance(path::String)\n",
    "\n",
    "Read instance from json file `path`.\n",
    "\"\"\"\n",
    "function read_instance(path::String)\n",
    "    @assert endswith(path, \".json\")\n",
    "\n",
    "    data = JSON.parsefile(path)\n",
    "    parameters_data = data[\"parameters\"]\n",
    "    nb_tasks = parameters_data[\"size\"][\"nb_tasks\"]\n",
    "    nb_machines = parameters_data[\"size\"][\"nb_machines\"]\n",
    "    nb_operators = parameters_data[\"size\"][\"nb_operators\"]\n",
    "    α = parameters_data[\"costs\"][\"unit_penalty\"]\n",
    "    β = parameters_data[\"costs\"][\"tardiness\"]\n",
    "\n",
    "    jobs_data = data[\"jobs\"]\n",
    "    jobs = [\n",
    "        Job(;\n",
    "            index=job[\"job\"],\n",
    "            task_sequence=job[\"sequence\"],\n",
    "            release_date=job[\"release_date\"],\n",
    "            due_date=job[\"due_date\"],\n",
    "            weight=job[\"weight\"],\n",
    "        ) for job in jobs_data\n",
    "    ]\n",
    "\n",
    "    tasks_data = data[\"tasks\"]\n",
    "    tasks = [\n",
    "        Task(;\n",
    "            index=task[\"task\"],\n",
    "            processing_time=task[\"processing_time\"],\n",
    "            machines=[machine[\"machine\"] for machine in task[\"machines\"]],\n",
    "        ) for task in tasks_data\n",
    "    ]\n",
    "\n",
    "    operators = [Int[] for _ in 1:nb_tasks, _ in 1:nb_machines]\n",
    "\n",
    "    for task in tasks_data\n",
    "        i = task[\"task\"]\n",
    "        for machine in task[\"machines\"]\n",
    "            m = machine[\"machine\"]\n",
    "            operator_list = machine[\"operators\"]\n",
    "            operators[i, m] = operator_list\n",
    "        end\n",
    "    end\n",
    "\n",
    "    return Instance(; nb_operators, α, β, jobs, tasks, operators)\n",
    "end\n",
    "\n",
    "\"\"\"\n",
    "    read_solution(path::String)\n",
    "\n",
    "Read solution from json file `path`.\n",
    "\"\"\"\n",
    "function read_solution(path::String)\n",
    "    @assert endswith(path, \".json\")\n",
    "\n",
    "    data = JSON.parsefile(path)\n",
    "    nb_tasks = length(data)\n",
    "    starts = zeros(Int, nb_tasks)\n",
    "    machines = zeros(Int, nb_tasks)\n",
    "    operators = zeros(Int, nb_tasks)\n",
    "    for task in data\n",
    "        task_index = task[\"task\"]\n",
    "        starts[task_index] = task[\"start\"]\n",
    "        machines[task_index] = task[\"machine\"]\n",
    "        operators[task_index] = task[\"operator\"]\n",
    "    end\n",
    "    return Solution(; starts, machines, operators)\n",
    "end\n",
    "\n",
    "\"\"\"\n",
    "    write_solution(solution::Solution, path::String)\n",
    "\n",
    "Write `solution` to file `path` with json format.\n",
    "\"\"\"\n",
    "function write_solution(solution::Solution, path::String)\n",
    "    @assert endswith(path, \".json\")\n",
    "\n",
    "    (; starts, machines, operators) = solution\n",
    "    data = []\n",
    "    for (task_index, (start, machine, operator)) in\n",
    "        enumerate(zip(starts, machines, operators))\n",
    "        push!(\n",
    "            data,\n",
    "            Dict(\n",
    "                \"task\" => task_index,\n",
    "                \"start\" => start,\n",
    "                \"machine\" => machine,\n",
    "                \"operator\" => operator,\n",
    "            ),\n",
    "        )\n",
    "    end\n",
    "    open(path, \"w\") do f\n",
    "        JSON.print(f, data)\n",
    "    end\n",
    "end\n",
    "\n",
    "\"\"\"\n",
    "    prepare_submission(solver, instances_folder, solutions_folder, group)\n",
    "\n",
    "Read instances from the `instance_folder`, use `solver` to generate solutions, and then write these solutions in the `solutions_folder` with the right format and `group` number.\n",
    "\n",
    "The `solver` should be a function with one `Instance` argument, and return a (feasible) `Solution`.\n",
    "\"\"\"\n",
    "function prepare_submission(;\n",
    "    solver,\n",
    "    instances_folder::String=\"instances\",\n",
    "    solutions_folder::String=\"solutions\",\n",
    "    group::Int=42,\n",
    ")\n",
    "    names = [\"KIRO-tiny\", \"KIRO-medium\", \"KIRO-large\", \"KIRO-huge\"]\n",
    "    total_cost = 0.0\n",
    "    for name in names\n",
    "        @info \"Solving $name instance\"\n",
    "        instance = read_instance(joinpath(instances_folder, \"$name.json\"))\n",
    "        sol = solver(instance)  # call the solver\n",
    "        feasible = is_feasible(sol, instance)\n",
    "        if feasible\n",
    "            write_solution(sol, joinpath(solutions_folder, \"KIRO-$name-sol_$group.json\"))\n",
    "            total_cost += cost(sol, instance)\n",
    "        else\n",
    "            total_cost += Inf\n",
    "        end\n",
    "    end\n",
    "    @info \"Total cost: $total_cost\"\n",
    "    return nothing\n",
    "end"
   ]
  },
  {
   "cell_type": "code",
   "execution_count": 12,
   "id": "95ab47da",
   "metadata": {},
   "outputs": [
    {
     "data": {
      "text/plain": [
       "Instance(8, 6.0, 1.0, Job[Job(1, [1, 9, 10, 15, 16], 2, 8, 6.0), Job(2, [2, 8, 14, 18, 20, 22, 24], 1, 10, 9.0), Job(3, [3, 7, 19], 6, 9, 3.0), Job(4, [4, 6, 11, 12, 13, 17, 21, 23, 25], 5, 19, 14.0), Job(5, [5], 9, 10, 1.0)], Task[Task(1, 1, [1]), Task(2, 1, [6]), Task(3, 1, [4]), Task(4, 2, [2, 7]), Task(5, 1, [2, 6]), Task(6, 2, [1, 3]), Task(7, 1, [5]), Task(8, 1, [4, 7]), Task(9, 1, [6]), Task(10, 1, [8])  …  Task(16, 1, [5]), Task(17, 2, [2, 6, 7]), Task(18, 1, [1, 5]), Task(19, 1, [1, 2, 6, 8]), Task(20, 2, [1]), Task(21, 2, [3, 4, 6]), Task(22, 1, [5, 8]), Task(23, 1, [3, 5, 8]), Task(24, 1, [2, 4]), Task(25, 1, [5, 7, 8])], [[1, 4, 5, 7] Int64[] … Int64[] Int64[]; Int64[] Int64[] … Int64[] Int64[]; … ; Int64[] [2, 6] … Int64[] Int64[]; Int64[] Int64[] … [6, 8] [1, 6, 8]])"
      ]
     },
     "execution_count": 12,
     "metadata": {},
     "output_type": "execute_result"
    }
   ],
   "source": [
    "instance=read_instance(\"Instances/KIRO-tiny.json\")"
   ]
  },
  {
   "cell_type": "code",
   "execution_count": 13,
   "id": "93f06787",
   "metadata": {},
   "outputs": [
    {
     "data": {
      "text/plain": [
       "Solution([3, 2, 7, 7, 10, 9, 8, 3, 4, 5  …  9, 15, 6, 9, 9, 17, 9, 18, 10, 19], [1, 6, 4, 2, 2, 3, 5, 4, 6, 8  …  5, 2, 5, 2, 1, 3, 8, 5, 4, 5], [1, 1, 1, 2, 1, 8, 1, 2, 1, 3  …  2, 5, 3, 1, 6, 8, 3, 7, 2, 4])"
      ]
     },
     "execution_count": 13,
     "metadata": {},
     "output_type": "execute_result"
    }
   ],
   "source": [
    "sol=read_solution(\"SOL/glouton_sort_date/KIRO-tiny-sol_11.json\")"
   ]
  },
  {
   "cell_type": "code",
   "execution_count": 14,
   "id": "c99ff1f5",
   "metadata": {},
   "outputs": [
    {
     "data": {
      "text/plain": [
       "true"
      ]
     },
     "execution_count": 14,
     "metadata": {},
     "output_type": "execute_result"
    }
   ],
   "source": [
    "t=is_feasible(sol,instance)"
   ]
  },
  {
   "cell_type": "code",
   "execution_count": 15,
   "id": "ae3a02d4",
   "metadata": {},
   "outputs": [
    {
     "data": {
      "text/plain": [
       "Instance(15, 6.0, 1.0, Job[Job(1, [1, 28, 41, 67, 81, 87, 132, 134, 139], 3, 21, 12.0), Job(2, [2, 50, 97, 107, 126, 135, 150], 7, 44, 11.0), Job(3, [3, 26, 33, 34, 37, 39, 63, 95, 115, 127, 131], 10, 93, 17.0), Job(4, [4, 23, 38, 62, 70, 72, 82, 85, 105, 148], 8, 80, 15.0), Job(5, [5, 44, 54, 114], 5, 11, 5.0), Job(6, [6, 58, 73, 89, 103, 111, 140], 9, 34, 8.0), Job(7, [7, 49, 52, 59, 60, 65, 84, 88, 90, 106, 117, 119, 133, 145], 4, 42, 20.0), Job(8, [8, 27, 35, 66, 76, 79, 147], 5, 21, 9.0), Job(9, [9, 31, 32, 47, 51, 64, 75, 83, 108, 125], 7, 42, 15.0), Job(10, [10, 24, 36, 46, 99, 123, 141], 8, 29, 11.0), Job(11, [11, 29, 93, 96, 100, 116, 129, 138, 143], 2, 61, 13.0), Job(12, [12, 55, 74, 78, 94, 136], 9, 17, 8.0), Job(13, [13, 40, 109, 113, 149], 6, 42, 8.0), Job(14, [14, 45, 48, 92, 101, 128], 7, 33, 11.0), Job(15, [15, 22, 25, 56, 61, 68, 69, 104, 118, 122, 144], 1, 63, 19.0), Job(16, [16, 30, 86, 91, 130, 137, 146], 10, 53, 9.0), Job(17, [17, 21, 43, 57, 80, 110], 9, 46, 10.0), Job(18, [18, 42, 71, 102, 112, 120, 124, 142], 10, 32, 10.0), Job(19, [19, 53, 77, 98, 121], 8, 40, 7.0), Job(20, [20], 1, 5, 2.0)], Task[Task(1, 1, [1, 2, 3, 6, 7, 8, 9, 10]), Task(2, 1, [1, 2, 3, 4, 5, 6, 7, 8, 9, 10]), Task(3, 1, [2, 3, 4, 5, 7, 8, 9, 10]), Task(4, 2, [1, 4, 6, 7, 8, 9]), Task(5, 1, [1, 2, 3, 4, 6, 8, 9]), Task(6, 1, [1, 4, 5, 6, 8, 10]), Task(7, 2, [2, 4, 5, 6, 7, 8, 9, 10]), Task(8, 2, [1, 3, 5, 6, 7, 8, 9]), Task(9, 1, [1, 4, 5, 6, 7, 9, 10]), Task(10, 2, [1, 2, 3, 5, 6, 7, 8, 9, 10])  …  Task(141, 1, [1, 2, 3, 5, 6, 7, 8, 9, 10]), Task(142, 1, [1, 2, 3, 4, 5, 6, 7, 8, 10]), Task(143, 2, [1, 2, 3, 5, 6, 7, 8, 9, 10]), Task(144, 2, [1, 2, 3, 5, 9, 10]), Task(145, 1, [1, 2, 4, 5, 6, 8, 9]), Task(146, 1, [1, 2, 3, 4, 5, 6, 7, 9, 10]), Task(147, 1, [1, 2, 5, 6, 7, 9, 10]), Task(148, 2, [1, 3, 5, 6, 7, 8, 9, 10]), Task(149, 1, [1, 2, 3, 4, 6, 8, 9, 10]), Task(150, 1, [1, 2, 3, 4, 5, 6, 7, 8, 9])], [[2, 3, 4, 10, 12, 15] [2, 3, 4, 10, 15] … [2, 3, 4, 12, 14, 15] [2, 3, 4, 10, 12, 14, 15]; [12, 13] [9, 13] … [9, 12] [9, 12, 13]; … ; [1, 5] [1, 5, 14] … [1, 5, 14] [5]; [5, 10, 12] [3, 5] … [3, 5, 10, 12] Int64[]])"
      ]
     },
     "execution_count": 15,
     "metadata": {},
     "output_type": "execute_result"
    }
   ],
   "source": [
    "instance=read_instance(\"Instances/KIRO-small.json\")"
   ]
  },
  {
   "cell_type": "code",
   "execution_count": 16,
   "id": "5fd2da78",
   "metadata": {},
   "outputs": [
    {
     "data": {
      "text/plain": [
       "Solution([4, 8, 12, 10, 6, 10, 6, 7, 8, 10  …  25, 26, 20, 26, 28, 25, 19, 27, 19, 25], [3, 4, 4, 4, 2, 5, 4, 1, 5, 6  …  8, 2, 5, 3, 1, 4, 2, 6, 3, 1], [4, 9, 8, 11, 3, 6, 15, 5, 4, 1  …  3, 8, 6, 4, 2, 8, 1, 5, 14, 5])"
      ]
     },
     "execution_count": 16,
     "metadata": {},
     "output_type": "execute_result"
    }
   ],
   "source": [
    "sol=read_solution(\"SOL/glouton_sort_date/KIRO-small-sol_11.json\")"
   ]
  },
  {
   "cell_type": "code",
   "execution_count": 17,
   "id": "dcfc9855",
   "metadata": {},
   "outputs": [
    {
     "data": {
      "text/plain": [
       "true"
      ]
     },
     "execution_count": 17,
     "metadata": {},
     "output_type": "execute_result"
    }
   ],
   "source": [
    "t=is_feasible(sol,instance)"
   ]
  },
  {
   "cell_type": "code",
   "execution_count": 18,
   "id": "f171d07a",
   "metadata": {},
   "outputs": [
    {
     "data": {
      "text/plain": [
       "Instance(20, 6.0, 1.0, Job[Job(1, [1, 92, 121, 289], 27, 34, 7.0), Job(2, [2, 62, 125, 143, 228, 252, 278], 30, 76, 11.0), Job(3, [3, 97, 163, 196, 217, 270], 7, 25, 8.0), Job(4, [4, 70, 74, 84, 108, 151, 177, 235], 26, 36, 10.0), Job(5, [5, 80, 81, 100, 182, 291], 29, 45, 10.0), Job(6, [6, 101, 157, 162, 164, 283], 10, 30, 7.0), Job(7, [7, 85, 185, 246, 255, 293], 18, 56, 8.0), Job(8, [8, 166, 172, 180, 213, 215, 237, 276, 290, 296], 18, 63, 16.0), Job(9, [9, 89, 113, 120, 130, 169, 173, 178, 241], 3, 21, 15.0), Job(10, [10, 54, 109, 117, 167, 175, 190], 25, 56, 10.0)  …  Job(41, [41, 71, 94, 140, 153, 181, 201], 7, 27, 13.0), Job(42, [42, 106, 259], 26, 32, 3.0), Job(43, [43, 136, 168, 176, 184, 193, 253], 21, 68, 11.0), Job(44, [44, 57, 133, 183, 256, 257], 21, 37, 9.0), Job(45, [45, 55, 64, 138, 159], 25, 59, 7.0), Job(46, [46, 68, 110, 135, 142, 198, 220, 261], 2, 54, 12.0), Job(47, [47, 87, 155, 158, 188, 192, 226, 231], 6, 25, 12.0), Job(48, [48, 53, 124, 202, 219, 299, 300], 1, 40, 11.0), Job(49, [49, 96, 127, 150, 174, 239, 258, 279], 30, 76, 10.0), Job(50, [50, 111, 148, 152, 154, 208], 4, 35, 9.0)], Task[Task(1, 2, [2, 3]), Task(2, 2, [4, 5, 6]), Task(3, 1, [7, 8, 9, 10]), Task(4, 2, [11, 12, 13, 14, 15]), Task(5, 2, [16, 17, 18, 19, 20]), Task(6, 1, [1]), Task(7, 1, [2, 3]), Task(8, 2, [4, 5, 6]), Task(9, 2, [7, 8, 9, 10]), Task(10, 2, [11, 12, 13, 14, 15])  …  Task(291, 2, [7, 8, 9, 10]), Task(292, 2, [11, 12, 13, 14, 15]), Task(293, 1, [16, 17, 18, 19, 20]), Task(294, 1, [1]), Task(295, 1, [2, 3]), Task(296, 1, [4, 5, 6]), Task(297, 1, [7, 8, 9, 10]), Task(298, 2, [11, 12, 13, 14, 15]), Task(299, 2, [16, 17, 18, 19, 20]), Task(300, 2, [1])], [Int64[] [3] … Int64[] Int64[]; Int64[] Int64[] … Int64[] Int64[]; … ; Int64[] Int64[] … [16, 17, 18, 20] [17, 18, 19, 20]; [1] Int64[] … Int64[] Int64[]])"
      ]
     },
     "execution_count": 18,
     "metadata": {},
     "output_type": "execute_result"
    }
   ],
   "source": [
    "instance=read_instance(\"Instances/KIRO-medium.json\")"
   ]
  },
  {
   "cell_type": "code",
   "execution_count": 19,
   "id": "0c35b9ed",
   "metadata": {},
   "outputs": [
    {
     "data": {
      "text/plain": [
       "Solution([29, 32, 8, 28, 31, 22, 21, 20, 5, 27  …  39, 32, 27, 36, 8, 36, 23, 14, 10, 25], [3, 6, 7, 12, 16, 1, 2, 4, 7, 11  …  7, 11, 16, 1, 2, 4, 10, 13, 17, 1], [3, 6, 7, 13, 16, 1, 2, 6, 7, 11  …  8, 11, 17, 1, 2, 4, 9, 14, 16, 1])"
      ]
     },
     "execution_count": 19,
     "metadata": {},
     "output_type": "execute_result"
    }
   ],
   "source": [
    "sol=read_solution(\"SOL/glouton_sort_date/KIRO-medium-sol_11.json\")"
   ]
  },
  {
   "cell_type": "code",
   "execution_count": 20,
   "id": "099bf98a",
   "metadata": {},
   "outputs": [
    {
     "data": {
      "text/plain": [
       "true"
      ]
     },
     "execution_count": 20,
     "metadata": {},
     "output_type": "execute_result"
    }
   ],
   "source": [
    "t=is_feasible(sol,instance)"
   ]
  },
  {
   "cell_type": "code",
   "execution_count": 23,
   "id": "db782394",
   "metadata": {},
   "outputs": [
    {
     "data": {
      "text/plain": [
       "true"
      ]
     },
     "execution_count": 23,
     "metadata": {},
     "output_type": "execute_result"
    }
   ],
   "source": [
    "instance_tiny=read_instance(\"Instances/KIRO-tiny.json\")\n",
    "sol_tiny=read_solution(\"SOL/glouton_sort_date/KIRO-tiny-sol_11.json\")\n",
    "t_tiny=is_feasible(sol,instance)\n",
    "instance_small=read_instance(\"Instances/KIRO-small.json\")\n",
    "sol_small=read_solution(\"SOL/glouton_sort_date/KIRO-small-sol_11.json\")\n",
    "t_small=is_feasible(sol,instance)\n",
    "instance_medium=read_instance(\"Instances/KIRO-medium.json\")\n",
    "sol_medium=read_solution(\"SOL/glouton_sort_date/KIRO-medium-sol_11.json\")\n",
    "t_medium=is_feasible(sol,instance)\n",
    "instance_large=read_instance(\"Instances/KIRO-large.json\")\n",
    "sol_large=read_solution(\"SOL/glouton_sort_date/KIRO-large-sol_11.json\")\n",
    "t_large=is_feasible(sol,instance)"
   ]
  },
  {
   "cell_type": "code",
   "execution_count": 25,
   "id": "bbd9584c",
   "metadata": {},
   "outputs": [
    {
     "data": {
      "text/plain": [
       "65041.0"
      ]
     },
     "execution_count": 25,
     "metadata": {},
     "output_type": "execute_result"
    }
   ],
   "source": [
    "cost(sol_large,instance_large)+cost(sol_tiny,instance_large)+cost(sol_large,instance_large)+cost(sol_large,instance_large)"
   ]
  },
  {
   "cell_type": "code",
   "execution_count": null,
   "id": "8b3e66ab",
   "metadata": {},
   "outputs": [],
   "source": []
  }
 ],
 "metadata": {
  "kernelspec": {
   "display_name": "Julia 1.7.2",
   "language": "julia",
   "name": "julia-1.7"
  },
  "language_info": {
   "file_extension": ".jl",
   "mimetype": "application/julia",
   "name": "julia",
   "version": "1.7.2"
  }
 },
 "nbformat": 4,
 "nbformat_minor": 5
}
